{
 "cells": [
  {
   "cell_type": "markdown",
   "id": "aeda1729",
   "metadata": {},
   "source": [
    "### Time Series Prediction with LSTM Recurrent Neural Networks"
   ]
  },
  {
   "cell_type": "code",
   "execution_count": 2,
   "id": "3f618a8c",
   "metadata": {},
   "outputs": [],
   "source": [
    "#Import libraries\n",
    "import numpy as np\n",
    "import matplotlib.pyplot as plt\n",
    "import pandas as pd\n",
    "import math\n",
    "from keras.models import Sequential\n",
    "from keras.layers import Dense,LSTM\n",
    "from sklearn.preprocessing import MinMaxScaler\n",
    "from sklearn.metrics import mean_squared_error"
   ]
  },
  {
   "cell_type": "code",
   "execution_count": 4,
   "id": "82a48732",
   "metadata": {},
   "outputs": [],
   "source": [
    "# fix random seed for reproducibility\n",
    "np.random.seed(7)"
   ]
  },
  {
   "cell_type": "code",
   "execution_count": 5,
   "id": "adc0d6c2",
   "metadata": {},
   "outputs": [
    {
     "data": {
      "image/png": "[encoded data removed]",
      "text/plain": [
       "<Figure size 432x288 with 1 Axes>"
      ]
     },
     "metadata": {
      "needs_background": "light"
     },
     "output_type": "display_data"
    }
   ],
   "source": [
    "# load the dataset\n",
    "dataset = pd.read_csv('airline-passengers.csv', usecols=[1], engine='python')\n",
    "plt.plot(dataset)\n",
    "plt.show()"
   ]
  },
  {
   "cell_type": "code",
   "execution_count": 6,
   "id": "df39ad9b",
   "metadata": {},
   "outputs": [],
   "source": [
    "dataset = dataset.astype('float32')"
   ]
  },
  {
   "cell_type": "code",
   "execution_count": 7,
   "id": "6e6367d3",
   "metadata": {},
   "outputs": [],
   "source": [
    "# normalize the dataset\n",
    "scaler = MinMaxScaler(feature_range=(0, 1))\n",
    "dataset = scaler.fit_transform(dataset)"
   ]
  },
  {
   "cell_type": "code",
   "execution_count": 8,
   "id": "64bfe660",
   "metadata": {},
   "outputs": [
    {
     "data": {
      "text/plain": [
       "array([[0.01544401],\n",
       "       [0.02702703],\n",
       "       [0.05405405],\n",
       "       [0.04826255],\n",
       "       [0.03281853],\n",
       "       [0.05984557],\n",
       "       [0.08494207],\n",
       "       [0.08494207],\n",
       "       [0.06177607],\n",
       "       [0.02895753],\n",
       "       [0.        ],\n",
       "       [0.02702703],\n",
       "       [0.02123553],\n",
       "       [0.04247104],\n",
       "       [0.07142857],\n",
       "       [0.05984557],\n",
       "       [0.04054055],\n",
       "       [0.08687258],\n",
       "       [0.12741312],\n",
       "       [0.12741312],\n",
       "       [0.10424709],\n",
       "       [0.05598456],\n",
       "       [0.01930502],\n",
       "       [0.06949806],\n",
       "       [0.07915059],\n",
       "       [0.08880308],\n",
       "       [0.14285713],\n",
       "       [0.11389962],\n",
       "       [0.13127413],\n",
       "       [0.14285713],\n",
       "       [0.18339768],\n",
       "       [0.18339768],\n",
       "       [0.15444016],\n",
       "       [0.11196911],\n",
       "       [0.08108109],\n",
       "       [0.1196911 ],\n",
       "       [0.12934363],\n",
       "       [0.14671814],\n",
       "       [0.17181468],\n",
       "       [0.14864865],\n",
       "       [0.15250966],\n",
       "       [0.22007722],\n",
       "       [0.24324325],\n",
       "       [0.26640925],\n",
       "       [0.2027027 ],\n",
       "       [0.16795367],\n",
       "       [0.13127413],\n",
       "       [0.17374519],\n",
       "       [0.17760617],\n",
       "       [0.17760617],\n",
       "       [0.25482625],\n",
       "       [0.25289574],\n",
       "       [0.24131274],\n",
       "       [0.26833975],\n",
       "       [0.3088803 ],\n",
       "       [0.32432434],\n",
       "       [0.25675675],\n",
       "       [0.20656371],\n",
       "       [0.14671814],\n",
       "       [0.18725869],\n",
       "       [0.19305018],\n",
       "       [0.16216215],\n",
       "       [0.25289574],\n",
       "       [0.23745173],\n",
       "       [0.25096524],\n",
       "       [0.3088803 ],\n",
       "       [0.38223937],\n",
       "       [0.36486486],\n",
       "       [0.2992278 ],\n",
       "       [0.24131274],\n",
       "       [0.1911197 ],\n",
       "       [0.24131274],\n",
       "       [0.26640925],\n",
       "       [0.24903473],\n",
       "       [0.31467178],\n",
       "       [0.3185328 ],\n",
       "       [0.32046333],\n",
       "       [0.4073359 ],\n",
       "       [0.5019305 ],\n",
       "       [0.46911195],\n",
       "       [0.40154442],\n",
       "       [0.32818535],\n",
       "       [0.25675675],\n",
       "       [0.3359073 ],\n",
       "       [0.34749034],\n",
       "       [0.33397684],\n",
       "       [0.41119692],\n",
       "       [0.4034749 ],\n",
       "       [0.4131274 ],\n",
       "       [0.52123547],\n",
       "       [0.5965251 ],\n",
       "       [0.58108103],\n",
       "       [0.484556  ],\n",
       "       [0.3899614 ],\n",
       "       [0.3223938 ],\n",
       "       [0.3899614 ],\n",
       "       [0.4073359 ],\n",
       "       [0.3803089 ],\n",
       "       [0.48648646],\n",
       "       [0.47104248],\n",
       "       [0.484556  ],\n",
       "       [0.6138996 ],\n",
       "       [0.6969112 ],\n",
       "       [0.70077217],\n",
       "       [0.57915056],\n",
       "       [0.46911195],\n",
       "       [0.38803086],\n",
       "       [0.44787642],\n",
       "       [0.45559844],\n",
       "       [0.4131274 ],\n",
       "       [0.4980695 ],\n",
       "       [0.47104248],\n",
       "       [0.49999997],\n",
       "       [0.6389961 ],\n",
       "       [0.7471043 ],\n",
       "       [0.7741313 ],\n",
       "       [0.57915056],\n",
       "       [0.492278  ],\n",
       "       [0.3976834 ],\n",
       "       [0.44980696],\n",
       "       [0.49420848],\n",
       "       [0.45945945],\n",
       "       [0.5830116 ],\n",
       "       [0.5637065 ],\n",
       "       [0.61003864],\n",
       "       [0.71042466],\n",
       "       [0.8571429 ],\n",
       "       [0.8783784 ],\n",
       "       [0.69305015],\n",
       "       [0.5849421 ],\n",
       "       [0.4980695 ],\n",
       "       [0.58108103],\n",
       "       [0.6042471 ],\n",
       "       [0.554054  ],\n",
       "       [0.60810804],\n",
       "       [0.6891892 ],\n",
       "       [0.71042466],\n",
       "       [0.8320464 ],\n",
       "       [1.        ],\n",
       "       [0.96911204],\n",
       "       [0.7799227 ],\n",
       "       [0.6891892 ],\n",
       "       [0.55212355],\n",
       "       [0.6332046 ]], dtype=float32)"
      ]
     },
     "execution_count": 8,
     "metadata": {},
     "output_type": "execute_result"
    }
   ],
   "source": [
    "dataset"
   ]
  },
  {
   "cell_type": "code",
   "execution_count": 45,
   "id": "ced257f2",
   "metadata": {},
   "outputs": [
    {
     "name": "stdout",
     "output_type": "stream",
     "text": [
      "96 48\n"
     ]
    }
   ],
   "source": [
    "# split into train and test sets\n",
    "train_size = int(len(dataset) * 0.67)\n",
    "test_size = len(dataset) - train_size\n",
    "train, test = dataset[0:train_size,:], dataset[train_size:len(dataset),:]\n",
    "print(len(train), len(test))"
   ]
  },
  {
   "cell_type": "code",
   "execution_count": 10,
   "id": "eddfc98c",
   "metadata": {},
   "outputs": [
    {
     "data": {
      "text/plain": [
       "array([[0.01544401],\n",
       "       [0.02702703],\n",
       "       [0.05405405],\n",
       "       [0.04826255],\n",
       "       [0.03281853],\n",
       "       [0.05984557],\n",
       "       [0.08494207],\n",
       "       [0.08494207],\n",
       "       [0.06177607],\n",
       "       [0.02895753],\n",
       "       [0.        ],\n",
       "       [0.02702703],\n",
       "       [0.02123553],\n",
       "       [0.04247104],\n",
       "       [0.07142857],\n",
       "       [0.05984557],\n",
       "       [0.04054055],\n",
       "       [0.08687258],\n",
       "       [0.12741312],\n",
       "       [0.12741312],\n",
       "       [0.10424709],\n",
       "       [0.05598456],\n",
       "       [0.01930502],\n",
       "       [0.06949806],\n",
       "       [0.07915059],\n",
       "       [0.08880308],\n",
       "       [0.14285713],\n",
       "       [0.11389962],\n",
       "       [0.13127413],\n",
       "       [0.14285713],\n",
       "       [0.18339768],\n",
       "       [0.18339768],\n",
       "       [0.15444016],\n",
       "       [0.11196911],\n",
       "       [0.08108109],\n",
       "       [0.1196911 ],\n",
       "       [0.12934363],\n",
       "       [0.14671814],\n",
       "       [0.17181468],\n",
       "       [0.14864865],\n",
       "       [0.15250966],\n",
       "       [0.22007722],\n",
       "       [0.24324325],\n",
       "       [0.26640925],\n",
       "       [0.2027027 ],\n",
       "       [0.16795367],\n",
       "       [0.13127413],\n",
       "       [0.17374519],\n",
       "       [0.17760617],\n",
       "       [0.17760617],\n",
       "       [0.25482625],\n",
       "       [0.25289574],\n",
       "       [0.24131274],\n",
       "       [0.26833975],\n",
       "       [0.3088803 ],\n",
       "       [0.32432434],\n",
       "       [0.25675675],\n",
       "       [0.20656371],\n",
       "       [0.14671814],\n",
       "       [0.18725869],\n",
       "       [0.19305018],\n",
       "       [0.16216215],\n",
       "       [0.25289574],\n",
       "       [0.23745173],\n",
       "       [0.25096524],\n",
       "       [0.3088803 ],\n",
       "       [0.38223937],\n",
       "       [0.36486486],\n",
       "       [0.2992278 ],\n",
       "       [0.24131274],\n",
       "       [0.1911197 ],\n",
       "       [0.24131274],\n",
       "       [0.26640925],\n",
       "       [0.24903473],\n",
       "       [0.31467178],\n",
       "       [0.3185328 ],\n",
       "       [0.32046333],\n",
       "       [0.4073359 ],\n",
       "       [0.5019305 ],\n",
       "       [0.46911195],\n",
       "       [0.40154442],\n",
       "       [0.32818535],\n",
       "       [0.25675675],\n",
       "       [0.3359073 ],\n",
       "       [0.34749034],\n",
       "       [0.33397684],\n",
       "       [0.41119692],\n",
       "       [0.4034749 ],\n",
       "       [0.4131274 ],\n",
       "       [0.52123547],\n",
       "       [0.5965251 ],\n",
       "       [0.58108103],\n",
       "       [0.484556  ],\n",
       "       [0.3899614 ],\n",
       "       [0.3223938 ],\n",
       "       [0.3899614 ]], dtype=float32)"
      ]
     },
     "execution_count": 10,
     "metadata": {},
     "output_type": "execute_result"
    }
   ],
   "source": [
    "train"
   ]
  },
  {
   "cell_type": "code",
   "execution_count": 11,
   "id": "0cfcea0a",
   "metadata": {},
   "outputs": [
    {
     "name": "stdout",
     "output_type": "stream",
     "text": [
      "142\n"
     ]
    }
   ],
   "source": [
    "print(len(dataset)-1-1)"
   ]
  },
  {
   "cell_type": "code",
   "execution_count": 16,
   "id": "d8b2d287",
   "metadata": {},
   "outputs": [],
   "source": [
    "# convert an array of values into a dataset matrix\n",
    "def create_dataset(dataset, look_back=1):\n",
    "    dataX, dataY = [], []\n",
    "    for i in range(len(dataset)-look_back-1):\n",
    "        a = dataset[i:(i+look_back), 0]\n",
    "        dataX.append(a)\n",
    "        dataY.append(dataset[i + look_back, 0])\n",
    "    return np.array(dataX), np.array(dataY)"
   ]
  },
  {
   "cell_type": "code",
   "execution_count": 17,
   "id": "348b32dd",
   "metadata": {},
   "outputs": [],
   "source": [
    "# reshape into X=t and Y=t+1\n",
    "look_back = 1\n",
    "trainX, trainY = create_dataset(train, look_back)\n",
    "testX, testY = create_dataset(test, look_back)"
   ]
  },
  {
   "cell_type": "code",
   "execution_count": 20,
   "id": "83551da4",
   "metadata": {},
   "outputs": [
    {
     "data": {
      "text/plain": [
       "(94, 94)"
      ]
     },
     "execution_count": 20,
     "metadata": {},
     "output_type": "execute_result"
    }
   ],
   "source": [
    "len(trainX),len(trainY)"
   ]
  },
  {
   "cell_type": "code",
   "execution_count": 21,
   "id": "79e3e912",
   "metadata": {},
   "outputs": [
    {
     "data": {
      "text/plain": [
       "(46, 46)"
      ]
     },
     "execution_count": 21,
     "metadata": {},
     "output_type": "execute_result"
    }
   ],
   "source": [
    "len(testX),len(testY)"
   ]
  },
  {
   "cell_type": "markdown",
   "id": "71af4cd1",
   "metadata": {},
   "source": [
    "The LSTM network expects the input data (X) to be provided with a specific array structure in the form of:        \n",
    "[samples, time steps, features]."
   ]
  },
  {
   "cell_type": "code",
   "execution_count": 23,
   "id": "ab00ef04",
   "metadata": {},
   "outputs": [],
   "source": [
    "# reshape input to be [samples, time steps, features]\n",
    "trainX = np.reshape(trainX, (trainX.shape[0], 1, trainX.shape[1]))\n",
    "testX = np.reshape(testX, (testX.shape[0], 1, testX.shape[1]))"
   ]
  },
  {
   "cell_type": "code",
   "execution_count": 25,
   "id": "81b2d3fb",
   "metadata": {},
   "outputs": [
    {
     "data": {
      "text/plain": [
       "(94, 1, 1)"
      ]
     },
     "execution_count": 25,
     "metadata": {},
     "output_type": "execute_result"
    }
   ],
   "source": [
    "trainX.shape"
   ]
  },
  {
   "cell_type": "markdown",
   "id": "bcf14015",
   "metadata": {},
   "source": [
    "We are now ready to design and fit our LSTM network for this problem"
   ]
  },
  {
   "cell_type": "code",
   "execution_count": 26,
   "id": "1e380714",
   "metadata": {},
   "outputs": [
    {
     "name": "stdout",
     "output_type": "stream",
     "text": [
      "Epoch 1/100\n",
      "94/94 - 2s - loss: 0.0570\n",
      "Epoch 2/100\n",
      "94/94 - 0s - loss: 0.0306\n",
      "Epoch 3/100\n",
      "94/94 - 0s - loss: 0.0225\n",
      "Epoch 4/100\n",
      "94/94 - 0s - loss: 0.0203\n",
      "Epoch 5/100\n",
      "94/94 - 0s - loss: 0.0192\n",
      "Epoch 6/100\n",
      "94/94 - 0s - loss: 0.0186\n",
      "Epoch 7/100\n",
      "94/94 - 0s - loss: 0.0176\n",
      "Epoch 8/100\n",
      "94/94 - 0s - loss: 0.0168\n",
      "Epoch 9/100\n",
      "94/94 - 0s - loss: 0.0160\n",
      "Epoch 10/100\n",
      "94/94 - 0s - loss: 0.0151\n",
      "Epoch 11/100\n",
      "94/94 - 0s - loss: 0.0144\n",
      "Epoch 12/100\n",
      "94/94 - 0s - loss: 0.0135\n",
      "Epoch 13/100\n",
      "94/94 - 0s - loss: 0.0127\n",
      "Epoch 14/100\n",
      "94/94 - 0s - loss: 0.0118\n",
      "Epoch 15/100\n",
      "94/94 - 0s - loss: 0.0110\n",
      "Epoch 16/100\n",
      "94/94 - 0s - loss: 0.0102\n",
      "Epoch 17/100\n",
      "94/94 - 0s - loss: 0.0093\n",
      "Epoch 18/100\n",
      "94/94 - 0s - loss: 0.0086\n",
      "Epoch 19/100\n",
      "94/94 - 0s - loss: 0.0077\n",
      "Epoch 20/100\n",
      "94/94 - 0s - loss: 0.0069\n",
      "Epoch 21/100\n",
      "94/94 - 0s - loss: 0.0062\n",
      "Epoch 22/100\n",
      "94/94 - 0s - loss: 0.0055\n",
      "Epoch 23/100\n",
      "94/94 - 0s - loss: 0.0049\n",
      "Epoch 24/100\n",
      "94/94 - 0s - loss: 0.0044\n",
      "Epoch 25/100\n",
      "94/94 - 0s - loss: 0.0040\n",
      "Epoch 26/100\n",
      "94/94 - 0s - loss: 0.0035\n",
      "Epoch 27/100\n",
      "94/94 - 0s - loss: 0.0032\n",
      "Epoch 28/100\n",
      "94/94 - 0s - loss: 0.0030\n",
      "Epoch 29/100\n",
      "94/94 - 0s - loss: 0.0027\n",
      "Epoch 30/100\n",
      "94/94 - 0s - loss: 0.0025\n",
      "Epoch 31/100\n",
      "94/94 - 0s - loss: 0.0024\n",
      "Epoch 32/100\n",
      "94/94 - 0s - loss: 0.0023\n",
      "Epoch 33/100\n",
      "94/94 - 0s - loss: 0.0023\n",
      "Epoch 34/100\n",
      "94/94 - 0s - loss: 0.0022\n",
      "Epoch 35/100\n",
      "94/94 - 0s - loss: 0.0021\n",
      "Epoch 36/100\n",
      "94/94 - 0s - loss: 0.0021\n",
      "Epoch 37/100\n",
      "94/94 - 0s - loss: 0.0021\n",
      "Epoch 38/100\n",
      "94/94 - 0s - loss: 0.0020\n",
      "Epoch 39/100\n",
      "94/94 - 0s - loss: 0.0021\n",
      "Epoch 40/100\n",
      "94/94 - 0s - loss: 0.0021\n",
      "Epoch 41/100\n",
      "94/94 - 0s - loss: 0.0020\n",
      "Epoch 42/100\n",
      "94/94 - 0s - loss: 0.0021\n",
      "Epoch 43/100\n",
      "94/94 - 0s - loss: 0.0021\n",
      "Epoch 44/100\n",
      "94/94 - 0s - loss: 0.0021\n",
      "Epoch 45/100\n",
      "94/94 - 0s - loss: 0.0020\n",
      "Epoch 46/100\n",
      "94/94 - 0s - loss: 0.0021\n",
      "Epoch 47/100\n",
      "94/94 - 0s - loss: 0.0021\n",
      "Epoch 48/100\n",
      "94/94 - 0s - loss: 0.0021\n",
      "Epoch 49/100\n",
      "94/94 - 0s - loss: 0.0021\n",
      "Epoch 50/100\n",
      "94/94 - 0s - loss: 0.0021\n",
      "Epoch 51/100\n",
      "94/94 - 0s - loss: 0.0020\n",
      "Epoch 52/100\n",
      "94/94 - 0s - loss: 0.0021\n",
      "Epoch 53/100\n",
      "94/94 - 0s - loss: 0.0021\n",
      "Epoch 54/100\n",
      "94/94 - 0s - loss: 0.0021\n",
      "Epoch 55/100\n",
      "94/94 - 0s - loss: 0.0021\n",
      "Epoch 56/100\n",
      "94/94 - 0s - loss: 0.0021\n",
      "Epoch 57/100\n",
      "94/94 - 0s - loss: 0.0021\n",
      "Epoch 58/100\n",
      "94/94 - 0s - loss: 0.0022\n",
      "Epoch 59/100\n",
      "94/94 - 0s - loss: 0.0021\n",
      "Epoch 60/100\n",
      "94/94 - 0s - loss: 0.0021\n",
      "Epoch 61/100\n",
      "94/94 - 0s - loss: 0.0020\n",
      "Epoch 62/100\n",
      "94/94 - 0s - loss: 0.0020\n",
      "Epoch 63/100\n",
      "94/94 - 0s - loss: 0.0021\n",
      "Epoch 64/100\n",
      "94/94 - 0s - loss: 0.0021\n",
      "Epoch 65/100\n",
      "94/94 - 0s - loss: 0.0021\n",
      "Epoch 66/100\n",
      "94/94 - 0s - loss: 0.0021\n",
      "Epoch 67/100\n",
      "94/94 - 0s - loss: 0.0020\n",
      "Epoch 68/100\n",
      "94/94 - 0s - loss: 0.0020\n",
      "Epoch 69/100\n",
      "94/94 - 0s - loss: 0.0020\n",
      "Epoch 70/100\n",
      "94/94 - 0s - loss: 0.0020\n",
      "Epoch 71/100\n",
      "94/94 - 0s - loss: 0.0020\n",
      "Epoch 72/100\n",
      "94/94 - 0s - loss: 0.0021\n",
      "Epoch 73/100\n",
      "94/94 - 0s - loss: 0.0020\n",
      "Epoch 74/100\n",
      "94/94 - 0s - loss: 0.0020\n",
      "Epoch 75/100\n",
      "94/94 - 0s - loss: 0.0020\n",
      "Epoch 76/100\n",
      "94/94 - 0s - loss: 0.0021\n",
      "Epoch 77/100\n",
      "94/94 - 0s - loss: 0.0021\n",
      "Epoch 78/100\n",
      "94/94 - 0s - loss: 0.0020\n",
      "Epoch 79/100\n",
      "94/94 - 0s - loss: 0.0021\n",
      "Epoch 80/100\n",
      "94/94 - 0s - loss: 0.0021\n",
      "Epoch 81/100\n",
      "94/94 - 0s - loss: 0.0020\n",
      "Epoch 82/100\n",
      "94/94 - 0s - loss: 0.0020\n",
      "Epoch 83/100\n",
      "94/94 - 0s - loss: 0.0021\n",
      "Epoch 84/100\n",
      "94/94 - 0s - loss: 0.0020\n",
      "Epoch 85/100\n",
      "94/94 - 0s - loss: 0.0021\n",
      "Epoch 86/100\n",
      "94/94 - 0s - loss: 0.0020\n",
      "Epoch 87/100\n",
      "94/94 - 0s - loss: 0.0020\n",
      "Epoch 88/100\n",
      "94/94 - 0s - loss: 0.0020\n",
      "Epoch 89/100\n",
      "94/94 - 0s - loss: 0.0020\n",
      "Epoch 90/100\n",
      "94/94 - 0s - loss: 0.0020\n",
      "Epoch 91/100\n",
      "94/94 - 0s - loss: 0.0020\n",
      "Epoch 92/100\n",
      "94/94 - 0s - loss: 0.0021\n",
      "Epoch 93/100\n",
      "94/94 - 0s - loss: 0.0020\n",
      "Epoch 94/100\n",
      "94/94 - 0s - loss: 0.0020\n",
      "Epoch 95/100\n",
      "94/94 - 0s - loss: 0.0021\n",
      "Epoch 96/100\n",
      "94/94 - 0s - loss: 0.0021\n",
      "Epoch 97/100\n",
      "94/94 - 0s - loss: 0.0020\n",
      "Epoch 98/100\n",
      "94/94 - 0s - loss: 0.0020\n",
      "Epoch 99/100\n",
      "94/94 - 0s - loss: 0.0020\n",
      "Epoch 100/100\n",
      "94/94 - 0s - loss: 0.0020\n"
     ]
    },
    {
     "data": {
      "text/plain": [
       "<tensorflow.python.keras.callbacks.History at 0x1572a84c0>"
      ]
     },
     "execution_count": 26,
     "metadata": {},
     "output_type": "execute_result"
    }
   ],
   "source": [
    "# create and fit the LSTM network\n",
    "model = Sequential()\n",
    "model.add(LSTM(4, input_shape=(1, look_back)))\n",
    "model.add(Dense(1))\n",
    "model.compile(loss='mean_squared_error', optimizer='adam')\n",
    "model.fit(trainX, trainY, epochs=100, batch_size=1, verbose=2)"
   ]
  },
  {
   "cell_type": "markdown",
   "id": "ef0efa1f",
   "metadata": {},
   "source": [
    "Note that we invert the predictions before calculating \n",
    "error scores to ensure that performance is reported in\n",
    "the same units as the original data (thousands of passengers per month)."
   ]
  },
  {
   "cell_type": "code",
   "execution_count": 27,
   "id": "c4ddf2a7",
   "metadata": {},
   "outputs": [
    {
     "name": "stdout",
     "output_type": "stream",
     "text": [
      "Train Score: 22.92 RMSE\n",
      "Test Score: 47.67 RMSE\n"
     ]
    }
   ],
   "source": [
    "# make predictions\n",
    "trainPredict = model.predict(trainX)\n",
    "testPredict = model.predict(testX)\n",
    "\n",
    "# invert predictions\n",
    "trainPredict = scaler.inverse_transform(trainPredict)\n",
    "testPredict = scaler.inverse_transform(testPredict)\n",
    "trainY = scaler.inverse_transform([trainY])\n",
    "testY = scaler.inverse_transform([testY])\n",
    "\n",
    "# calculate root mean squared error\n",
    "trainScore = math.sqrt(mean_squared_error(trainY[0], trainPredict[:,0]))\n",
    "print('Train Score: %.2f RMSE' % (trainScore))\n",
    "testScore = math.sqrt(mean_squared_error(testY[0], testPredict[:,[0]]))\n",
    "print('Test Score: %.2f RMSE' % (testScore))"
   ]
  },
  {
   "cell_type": "code",
   "execution_count": 44,
   "id": "7b307924",
   "metadata": {},
   "outputs": [
    {
     "data": {
      "image/png": "[encoded data removed]",
      "text/plain": [
       "<Figure size 432x288 with 1 Axes>"
      ]
     },
     "metadata": {
      "needs_background": "light"
     },
     "output_type": "display_data"
    }
   ],
   "source": [
    "# shift train predictions for plotting\n",
    "trainPredictPlot = np.empty_like(dataset)\n",
    "trainPredictPlot[:, :] = np.nan\n",
    "trainPredictPlot[look_back:len(trainPredict)+look_back, :] = trainPredict\n",
    "\n",
    "# shift test predictions for plotting\n",
    "testPredictPlot = np.empty_like(dataset)\n",
    "testPredictPlot[:, :] = np.nan\n",
    "testPredictPlot[len(trainPredict)+(look_back*2)+1:len(dataset)-1, :] = testPredict\n",
    "\n",
    "# plot baseline and predictions\n",
    "plt.plot(scaler.inverse_transform(dataset))\n",
    "plt.plot(trainPredictPlot)\n",
    "plt.plot(testPredictPlot)\n",
    "plt.show()"
   ]
  },
  {
   "cell_type": "code",
   "execution_count": 41,
   "id": "9323e63d",
   "metadata": {},
   "outputs": [
    {
     "data": {
      "text/plain": [
       "144"
      ]
     },
     "execution_count": 41,
     "metadata": {},
     "output_type": "execute_result"
    }
   ],
   "source": [
    "len(trainPredictPlot)"
   ]
  },
  {
   "cell_type": "code",
   "execution_count": 43,
   "id": "a2350e2b",
   "metadata": {},
   "outputs": [
    {
     "data": {
      "text/plain": [
       "array([[nan],\n",
       "       [nan],\n",
       "       [nan],\n",
       "       [nan],\n",
       "       [nan],\n",
       "       [nan],\n",
       "       [nan],\n",
       "       [nan],\n",
       "       [nan],\n",
       "       [nan],\n",
       "       [nan],\n",
       "       [nan],\n",
       "       [nan],\n",
       "       [nan],\n",
       "       [nan],\n",
       "       [nan],\n",
       "       [nan],\n",
       "       [nan],\n",
       "       [nan],\n",
       "       [nan],\n",
       "       [nan],\n",
       "       [nan],\n",
       "       [nan],\n",
       "       [nan],\n",
       "       [nan],\n",
       "       [nan],\n",
       "       [nan],\n",
       "       [nan],\n",
       "       [nan],\n",
       "       [nan],\n",
       "       [nan],\n",
       "       [nan],\n",
       "       [nan],\n",
       "       [nan],\n",
       "       [nan],\n",
       "       [nan],\n",
       "       [nan],\n",
       "       [nan],\n",
       "       [nan],\n",
       "       [nan],\n",
       "       [nan],\n",
       "       [nan],\n",
       "       [nan],\n",
       "       [nan],\n",
       "       [nan],\n",
       "       [nan],\n",
       "       [nan],\n",
       "       [nan],\n",
       "       [nan],\n",
       "       [nan],\n",
       "       [nan],\n",
       "       [nan],\n",
       "       [nan],\n",
       "       [nan],\n",
       "       [nan],\n",
       "       [nan],\n",
       "       [nan],\n",
       "       [nan],\n",
       "       [nan],\n",
       "       [nan],\n",
       "       [nan],\n",
       "       [nan],\n",
       "       [nan],\n",
       "       [nan],\n",
       "       [nan],\n",
       "       [nan],\n",
       "       [nan],\n",
       "       [nan],\n",
       "       [nan],\n",
       "       [nan],\n",
       "       [nan],\n",
       "       [nan],\n",
       "       [nan],\n",
       "       [nan],\n",
       "       [nan],\n",
       "       [nan],\n",
       "       [nan],\n",
       "       [nan],\n",
       "       [nan],\n",
       "       [nan],\n",
       "       [nan],\n",
       "       [nan],\n",
       "       [nan],\n",
       "       [nan],\n",
       "       [nan],\n",
       "       [nan],\n",
       "       [nan],\n",
       "       [nan],\n",
       "       [nan],\n",
       "       [nan],\n",
       "       [nan],\n",
       "       [nan],\n",
       "       [nan],\n",
       "       [nan],\n",
       "       [nan],\n",
       "       [nan],\n",
       "       [nan],\n",
       "       [nan],\n",
       "       [nan],\n",
       "       [nan],\n",
       "       [nan],\n",
       "       [nan],\n",
       "       [nan],\n",
       "       [nan],\n",
       "       [nan],\n",
       "       [nan],\n",
       "       [nan],\n",
       "       [nan],\n",
       "       [nan],\n",
       "       [nan],\n",
       "       [nan],\n",
       "       [nan],\n",
       "       [nan],\n",
       "       [nan],\n",
       "       [nan],\n",
       "       [nan],\n",
       "       [nan],\n",
       "       [nan],\n",
       "       [nan],\n",
       "       [nan],\n",
       "       [nan],\n",
       "       [nan],\n",
       "       [nan],\n",
       "       [nan],\n",
       "       [nan],\n",
       "       [nan],\n",
       "       [nan],\n",
       "       [nan],\n",
       "       [nan],\n",
       "       [nan],\n",
       "       [nan],\n",
       "       [nan],\n",
       "       [nan],\n",
       "       [nan],\n",
       "       [nan],\n",
       "       [nan],\n",
       "       [nan],\n",
       "       [nan],\n",
       "       [nan],\n",
       "       [nan],\n",
       "       [nan],\n",
       "       [nan],\n",
       "       [nan],\n",
       "       [nan]], dtype=float32)"
      ]
     },
     "execution_count": 43,
     "metadata": {},
     "output_type": "execute_result"
    }
   ],
   "source": [
    "testPredictPlot"
   ]
  },
  {
   "cell_type": "code",
   "execution_count": null,
   "id": "0ab7550e",
   "metadata": {},
   "outputs": [],
   "source": []
  },
  {
   "cell_type": "code",
   "execution_count": null,
   "id": "a4758311",
   "metadata": {},
   "outputs": [],
   "source": []
  },
  {
   "cell_type": "code",
   "execution_count": null,
   "id": "73ce76de",
   "metadata": {},
   "outputs": [],
   "source": []
  },
  {
   "cell_type": "code",
   "execution_count": null,
   "id": "201897a3",
   "metadata": {},
   "outputs": [],
   "source": []
  },
  {
   "cell_type": "code",
   "execution_count": null,
   "id": "fbd363b8",
   "metadata": {},
   "outputs": [],
   "source": []
  },
  {
   "cell_type": "code",
   "execution_count": null,
   "id": "490d634f",
   "metadata": {},
   "outputs": [],
   "source": []
  }
 ],
 "metadata": {
  "kernelspec": {
   "display_name": "Python 3",
   "language": "python",
   "name": "python3"
  },
  "language_info": {
   "codemirror_mode": {
    "name": "ipython",
    "version": 3
   },
   "file_extension": ".py",
   "mimetype": "text/x-python",
   "name": "python",
   "nbconvert_exporter": "python",
   "pygments_lexer": "ipython3",
   "version": "3.9.5"
  }
 },
 "nbformat": 4,
 "nbformat_minor": 5
}
